{
  "nbformat": 4,
  "nbformat_minor": 0,
  "metadata": {
    "colab": {
      "provenance": []
    },
    "kernelspec": {
      "name": "python3",
      "display_name": "Python 3"
    },
    "language_info": {
      "name": "python"
    }
  },
  "cells": [
    {
      "cell_type": "code",
      "source": [
        "# PRACTICAL 04: Trend Fitting using Moving Average Method\n",
        "import pandas as pd\n",
        "import matplotlib.pyplot as plt\n",
        "\n",
        "# Step 1: Load dataset\n",
        "path = \"Symphony-Data.csv\"  # Update with your actual path\n",
        "df = pd.read_csv(path)\n",
        "\n",
        "# Step 2: Preprocessing\n",
        "df = df.drop(columns=['OPEN', 'HIGH', 'LOW', 'VOLUME', 'CHANGE(%)'])  # Drop irrelevant columns\n",
        "df['DATE'] = pd.to_datetime(df['DATE'], format='%d-%b-%y')\n",
        "df = df.sort_values('DATE')\n",
        "\n",
        "# Step 3: Calculate 30-day (1 month) moving average\n",
        "df['Moving_Avg'] = df['PRICE'].rolling(window=30).mean()\n",
        "\n",
        "# Step 4: Calculate trend (rate of change in moving average)\n",
        "df['Trend'] = df['Moving_Avg'].diff()\n",
        "\n",
        "# Step 5: Calculate seasonal variation (actual - moving average)\n",
        "df['Seasonal_Variation'] = df['PRICE'] - df['Moving_Avg']\n",
        "\n",
        "# Step 6: Plot original data with moving average\n",
        "plt.figure(figsize=(12, 6))\n",
        "plt.plot(df['DATE'], df['PRICE'], label='Original Data')\n",
        "plt.plot(df['DATE'], df['Moving_Avg'], label='Moving Average', color='red')\n",
        "plt.xlabel(\"Date\")\n",
        "plt.ylabel(\"Stock Price (Rs.)\")\n",
        "plt.title(\"Stock Price with Moving Average Trend\")\n",
        "plt.legend()\n",
        "plt.grid(True)\n",
        "plt.tight_layout()\n",
        "plt.show()\n",
        "\n",
        "# Step 7: Plot trend and seasonal variation\n",
        "plt.figure(figsize=(12, 6))\n",
        "plt.plot(df['DATE'], df['Trend'], label='Trend (Δ Moving Avg)', color='green')\n",
        "plt.plot(df['DATE'], df['Seasonal_Variation'], label='Seasonal Variation', color='orange')\n",
        "plt.xlabel(\"Date\")\n",
        "plt.ylabel(\"Value\")\n",
        "plt.title(\"Trend and Seasonal Variation\")\n",
        "plt.legend()\n",
        "plt.grid(True)\n",
        "plt.tight_layout()\n",
        "plt.show()\n"
      ],
      "metadata": {
        "id": "PHXH4dKQHmdh"
      },
      "execution_count": null,
      "outputs": []
    }
  ]
}