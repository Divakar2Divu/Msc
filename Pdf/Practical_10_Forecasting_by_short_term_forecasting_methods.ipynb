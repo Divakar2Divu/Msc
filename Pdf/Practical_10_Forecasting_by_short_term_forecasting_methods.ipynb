{
  "nbformat": 4,
  "nbformat_minor": 0,
  "metadata": {
    "colab": {
      "provenance": []
    },
    "kernelspec": {
      "name": "python3",
      "display_name": "Python 3"
    },
    "language_info": {
      "name": "python"
    }
  },
  "cells": [
    {
      "cell_type": "code",
      "source": [
        "# PRACTICAL 10: Short-Term Forecasting using ARIMA\n",
        "import pandas as pd\n",
        "import numpy as np\n",
        "import matplotlib.pyplot as plt\n",
        "from statsmodels.tsa.arima.model import ARIMA\n",
        "\n",
        "# Step 1: Load dataset\n",
        "path = \"Symphony-Data.csv\"  # Update with your actual path\n",
        "df = pd.read_csv(path)\n",
        "\n",
        "# Step 2: Preprocessing\n",
        "df = df.drop(columns=['OPEN', 'HIGH', 'LOW', 'VOLUME', 'CHANGE(%)'])\n",
        "df['DATE'] = pd.to_datetime(df['DATE'], format=\"%d-%b-%y\")\n",
        "df.sort_values('DATE', inplace=True)\n",
        "df.set_index('DATE', inplace=True)\n",
        "\n",
        "# Step 3: Fit ARIMA model\n",
        "# Example: ARIMA(5,1,1) — feel free to tune based on auto_arima or ACF/PACF plots\n",
        "model = ARIMA(df['PRICE'], order=(5, 1, 1))  # (p,d,q)\n",
        "fit = model.fit()\n",
        "\n",
        "# Step 4: Forecast next N steps\n",
        "forecast_steps = 60  # forecast next 60 days\n",
        "forecast = fit.forecast(steps=forecast_steps)\n",
        "\n",
        "# Step 5: Plot results\n",
        "plt.figure(figsize=(12, 6))\n",
        "plt.plot(df.index, df['PRICE'], label='Original Data')\n",
        "plt.plot(fit.fittedvalues.index, fit.fittedvalues, label='Fitted Values', linestyle='--')\n",
        "forecast_index = pd.date_range(start=df.index[-1], periods=forecast_steps + 1, freq='D')[1:]\n",
        "plt.plot(forecast_index, forecast, label='Forecast', linestyle='--', color='red')\n",
        "plt.title(\"ARIMA Short-Term Forecasting\")\n",
        "plt.xlabel(\"Date\")\n",
        "plt.ylabel(\"Stock Price\")\n",
        "plt.legend()\n",
        "plt.grid(True)\n",
        "plt.tight_layout()\n",
        "plt.show()\n",
        "\n",
        "# Step 6: Output forecasted values\n",
        "print(\"Forecasted Prices:\")\n",
        "print(forecast)\n"
      ],
      "metadata": {
        "id": "PHXH4dKQHmdh"
      },
      "execution_count": null,
      "outputs": []
    }
  ]
}