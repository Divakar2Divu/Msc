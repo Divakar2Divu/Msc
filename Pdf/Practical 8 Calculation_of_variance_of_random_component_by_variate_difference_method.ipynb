{
  "nbformat": 4,
  "nbformat_minor": 0,
  "metadata": {
    "colab": {
      "provenance": []
    },
    "kernelspec": {
      "name": "python3",
      "display_name": "Python 3"
    },
    "language_info": {
      "name": "python"
    }
  },
  "cells": [
    {
      "cell_type": "code",
      "source": [
        "# PRACTICAL 08: Variance of Random Component (Variate Difference Method)\n",
        "import pandas as pd\n",
        "import numpy as np\n",
        "import matplotlib.pyplot as plt\n",
        "\n",
        "# Step 1: Load dataset\n",
        "path = \"Symphony-Data.csv\"  # Update with your actual path\n",
        "df = pd.read_csv(path)\n",
        "\n",
        "# Step 2: Preprocessing\n",
        "df = df.drop(columns=['OPEN', 'HIGH', 'LOW', 'VOLUME', 'CHANGE(%)'])\n",
        "df['DATE'] = pd.to_datetime(df['DATE'], format=\"%d-%b-%y\")\n",
        "df.sort_values('DATE', inplace=True)\n",
        "\n",
        "# Step 3: Convert price column to numpy array\n",
        "price_array = df['PRICE'].to_numpy()\n",
        "\n",
        "# Step 4: Calculate first-order differences\n",
        "differences = np.diff(price_array)\n",
        "\n",
        "# Step 5: Compute statistics\n",
        "mean_diff = np.mean(differences)\n",
        "var_diff = np.var(differences)\n",
        "var_random = var_diff / 2\n",
        "\n",
        "# Step 6: Print results\n",
        "print(\"Mean of Differences       :\", mean_diff)\n",
        "print(\"Variance of Differences   :\", var_diff)\n",
        "print(\"Variance of Random Component :\", var_random)\n",
        "\n",
        "# Step 7: Plot the differences\n",
        "plt.figure(figsize=(12, 5))\n",
        "plt.plot(differences, marker='o', linestyle='-', color='purple')\n",
        "plt.title(\"First-order Differences of Stock Prices\")\n",
        "plt.xlabel(\"Time Index\")\n",
        "plt.ylabel(\"Difference Value\")\n",
        "plt.grid(True)\n",
        "plt.tight_layout()\n",
        "plt.show()\n"
      ],
      "metadata": {
        "id": "PHXH4dKQHmdh"
      },
      "execution_count": null,
      "outputs": []
    }
  ]
}