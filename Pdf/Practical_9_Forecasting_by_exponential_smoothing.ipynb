{
  "nbformat": 4,
  "nbformat_minor": 0,
  "metadata": {
    "colab": {
      "provenance": []
    },
    "kernelspec": {
      "name": "python3",
      "display_name": "Python 3"
    },
    "language_info": {
      "name": "python"
    }
  },
  "cells": [
    {
      "cell_type": "code",
      "source": [
        "# PRACTICAL 09: Forecasting using Exponential Smoothing\n",
        "import pandas as pd\n",
        "import numpy as np\n",
        "import matplotlib.pyplot as plt\n",
        "from statsmodels.tsa.holtwinters import ExponentialSmoothing\n",
        "\n",
        "# Step 1: Load dataset\n",
        "path = \"Symphony-Data.csv\"  # Update with your actual path\n",
        "df = pd.read_csv(path)\n",
        "\n",
        "# Step 2: Preprocess\n",
        "df = df.drop(columns=['OPEN', 'HIGH', 'LOW', 'VOLUME', 'CHANGE(%)'])\n",
        "df['DATE'] = pd.to_datetime(df['DATE'], format=\"%d-%b-%y\")\n",
        "df.sort_values('DATE', inplace=True)\n",
        "df.set_index('DATE', inplace=True)\n",
        "\n",
        "# Step 3: Fit Exponential Smoothing model (with additive seasonality)\n",
        "# seasonal_periods = 30 (assuming ~monthly seasonality in daily data)\n",
        "model = ExponentialSmoothing(\n",
        "    df['PRICE'],\n",
        "    trend=None,\n",
        "    seasonal='add',\n",
        "    seasonal_periods=30  # adjust based on your data granularity\n",
        ")\n",
        "fit = model.fit()\n",
        "\n",
        "# Step 4: Forecast future values\n",
        "forecast_period = 60  # e.g., forecast next 60 days\n",
        "forecast = fit.forecast(forecast_period)\n",
        "\n",
        "# Step 5: Plotting results\n",
        "plt.figure(figsize=(12, 6))\n",
        "plt.plot(df.index, df['PRICE'], label='Original Data')\n",
        "plt.plot(fit.fittedvalues.index, fit.fittedvalues, label='Fitted', linestyle='--')\n",
        "plt.plot(forecast.index, forecast, label='Forecast', linestyle='--')\n",
        "plt.title(\"Exponential Smoothing Forecast\")\n",
        "plt.xlabel(\"Date\")\n",
        "plt.ylabel(\"Stock Price\")\n",
        "plt.legend()\n",
        "plt.grid(True)\n",
        "plt.tight_layout()\n",
        "plt.show()\n",
        "\n",
        "# Step 6: Print forecasted values\n",
        "print(\"Forecasted Values:\\n\")\n",
        "print(forecast)\n"
      ],
      "metadata": {
        "id": "PHXH4dKQHmdh"
      },
      "execution_count": null,
      "outputs": []
    }
  ]
}