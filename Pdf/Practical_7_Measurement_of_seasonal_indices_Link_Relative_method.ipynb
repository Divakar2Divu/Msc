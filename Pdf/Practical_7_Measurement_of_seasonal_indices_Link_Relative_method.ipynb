{
  "nbformat": 4,
  "nbformat_minor": 0,
  "metadata": {
    "colab": {
      "provenance": []
    },
    "kernelspec": {
      "name": "python3",
      "display_name": "Python 3"
    },
    "language_info": {
      "name": "python"
    }
  },
  "cells": [
    {
      "cell_type": "code",
      "source": [
        "# PRACTICAL 07: Seasonal Indices using Link Relative Method\n",
        "import pandas as pd\n",
        "import numpy as np\n",
        "import matplotlib.pyplot as plt\n",
        "\n",
        "# Step 1: Load dataset\n",
        "path = \"Symphony-Data.csv\"  # Update with your actual path\n",
        "df = pd.read_csv(path)\n",
        "\n",
        "# Step 2: Preprocessing\n",
        "df = df.drop(columns=['OPEN', 'HIGH', 'LOW', 'VOLUME', 'CHANGE(%)'])\n",
        "df['DATE'] = pd.to_datetime(df['DATE'], format=\"%d-%b-%y\")\n",
        "df.sort_values('DATE', inplace=True)\n",
        "\n",
        "# Step 3: Extract Month and Year\n",
        "df['Month'] = df['DATE'].dt.month\n",
        "df['Year'] = df['DATE'].dt.year\n",
        "\n",
        "# Step 4: Monthly average per year\n",
        "monthly_avg = df.groupby(['Month', 'Year'])['PRICE'].mean().unstack()\n",
        "\n",
        "# Step 5: Calculate link relatives (e.g., 2020/2019, 2021/2020, ...)\n",
        "for i in range(1, len(monthly_avg.columns)):\n",
        "    prev_year = monthly_avg.columns[i-1]\n",
        "    curr_year = monthly_avg.columns[i]\n",
        "    monthly_avg[f'LinkRel_{curr_year}'] = monthly_avg[curr_year] / monthly_avg[prev_year]\n",
        "\n",
        "# Step 6: Compute average link relatives per month\n",
        "link_rel_cols = [col for col in monthly_avg.columns if 'LinkRel_' in str(col)]\n",
        "monthly_avg['Avg_Link_Rel'] = monthly_avg[link_rel_cols].mean(axis=1)\n",
        "\n",
        "# Step 7: Normalize to make sum = 12 (months)\n",
        "seasonal_index = monthly_avg['Avg_Link_Rel']\n",
        "seasonal_index = seasonal_index / seasonal_index.sum() * 12\n",
        "\n",
        "# Step 8: Deseasonalize original data using seasonal index\n",
        "for year in monthly_avg.columns[:6]:  # Assuming years 2019 to 2024\n",
        "    monthly_avg[f'Deseasonalized_{year}'] = monthly_avg[year] / seasonal_index\n",
        "\n",
        "# Step 9: Plotting\n",
        "plt.figure(figsize=(14, 10))\n",
        "\n",
        "# Subplot 1: Original\n",
        "plt.subplot(3, 1, 1)\n",
        "for year in monthly_avg.columns[:6]:\n",
        "    plt.plot(monthly_avg.index, monthly_avg[year], label=str(year), marker='o')\n",
        "plt.title(\"Original Monthly Prices\")\n",
        "plt.xlabel(\"Month\")\n",
        "plt.ylabel(\"Price\")\n",
        "plt.legend(loc=\"upper right\")\n",
        "plt.grid()\n",
        "\n",
        "# Subplot 2: Seasonal Indices\n",
        "plt.subplot(3, 1, 2)\n",
        "plt.plot(seasonal_index.index, seasonal_index, marker='o', color='orange', label=\"Seasonal Index\")\n",
        "plt.title(\"Seasonal Indices (Link Relative Method)\")\n",
        "plt\n"
      ],
      "metadata": {
        "id": "PHXH4dKQHmdh"
      },
      "execution_count": null,
      "outputs": []
    }
  ]
}