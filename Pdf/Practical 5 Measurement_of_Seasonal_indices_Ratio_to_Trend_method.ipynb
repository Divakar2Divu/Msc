{
  "nbformat": 4,
  "nbformat_minor": 0,
  "metadata": {
    "colab": {
      "provenance": []
    },
    "kernelspec": {
      "name": "python3",
      "display_name": "Python 3"
    },
    "language_info": {
      "name": "python"
    }
  },
  "cells": [
    {
      "cell_type": "code",
      "source": [
        "# PRACTICAL 05: Seasonal Indices using Ratio-to-Trend Method\n",
        "import pandas as pd\n",
        "import numpy as np\n",
        "import matplotlib.pyplot as plt\n",
        "\n",
        "# Step 1: Load dataset\n",
        "path = \"Symphony-Data.csv\"  # Update with your actual path\n",
        "df = pd.read_csv(path)\n",
        "\n",
        "# Step 2: Preprocess\n",
        "df = df.drop(columns=['OPEN', 'HIGH', 'LOW', 'VOLUME', 'CHANGE(%)'])\n",
        "df['DATE'] = pd.to_datetime(df['DATE'], format=\"%d-%b-%y\")\n",
        "df.sort_values('DATE', inplace=True)\n",
        "\n",
        "# Step 3: Extract year and month\n",
        "df['Year'] = df['DATE'].dt.year\n",
        "df['Month'] = df['DATE'].dt.month\n",
        "\n",
        "# Step 4: Calculate monthly means for each year\n",
        "monthly_avg = df.groupby(['Month', 'Year'])['PRICE'].mean().unstack()\n",
        "\n",
        "# Step 5: Plot monthly averages\n",
        "monthly_avg.plot(marker='o', figsize=(12, 6), title=\"Month-wise Average Stock Prices\")\n",
        "plt.xlabel(\"Month\")\n",
        "plt.ylabel(\"Average Price\")\n",
        "plt.grid(True)\n",
        "plt.legend(title=\"Year\")\n",
        "plt.tight_layout()\n",
        "plt.show()\n",
        "\n",
        "# Step 6: Calculate yearly trend (average price)\n",
        "yearly_trend = monthly_avg.mean()\n",
        "\n",
        "# Step 7: Compute ratio of each month to yearly trend\n",
        "ratios = monthly_avg.copy()\n",
        "for year in yearly_trend.index:\n",
        "    ratios[f'ratio_{year}'] = monthly_avg[year] / yearly_trend[year]\n",
        "\n",
        "# Step 8: Compute normalized seasonal indices\n",
        "ratio_cols = [col for col in ratios.columns if 'ratio_' in str(col)]\n",
        "normalized_indices = ratios[ratio_cols].mean(axis=1)\n",
        "\n",
        "# Step 9: Plot normalized seasonal indices\n",
        "plt.figure(figsize=(10, 5))\n",
        "plt.plot(normalized_indices.index, normalized_indices, marker='o')\n",
        "plt.title(\"Normalized Seasonal Indices\")\n",
        "plt.xlabel(\"Month\")\n",
        "plt.ylabel(\"Index\")\n",
        "plt.grid(True)\n",
        "plt.tight_layout()\n",
        "plt.show()\n",
        "\n",
        "# Step 10: Deseasonalized data calculation (for all years)\n",
        "monthly_mean = df.groupby(['Year', 'Month'])['PRICE'].mean().unstack()\n",
        "deseasonalized = pd.DataFrame()\n",
        "for month in range(1, 13):\n",
        "    deseasonalized[month] = monthly_mean[month] / normalized_indices[month]\n",
        "\n",
        "# Step 11: Plot deseasonalized prices\n",
        "plt.figure(figsize=(12, 6))\n",
        "for year in deseasonalized.index:\n",
        "    plt.plot(deseasonalized.columns, deseasonalized.loc[year], marker='o', label=str(year))\n",
        "\n",
        "plt.title(\"Deseasonalized Monthly Prices\")\n",
        "plt.xlabel(\"Month\")\n",
        "plt.ylabel(\"Price (Deseasonalized)\")\n",
        "plt.legend(title=\"Year\")\n",
        "plt.grid(True)\n",
        "plt.tight_layout()\n",
        "plt.show()\n"
      ],
      "metadata": {
        "id": "PHXH4dKQHmdh"
      },
      "execution_count": null,
      "outputs": []
    }
  ]
}